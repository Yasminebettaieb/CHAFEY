{
 "cells": [
  {
   "cell_type": "code",
   "execution_count": 2,
   "metadata": {},
   "outputs": [
    {
     "name": "stdout",
     "output_type": "stream",
     "text": [
      "Requirement already satisfied: transformers in e:\\anaconda3\\lib\\site-packages (4.32.1)\n",
      "Requirement already satisfied: filelock in e:\\anaconda3\\lib\\site-packages (from transformers) (3.9.0)\n",
      "Requirement already satisfied: huggingface-hub<1.0,>=0.15.1 in e:\\anaconda3\\lib\\site-packages (from transformers) (0.17.3)\n",
      "Requirement already satisfied: numpy>=1.17 in e:\\anaconda3\\lib\\site-packages (from transformers) (1.26.2)\n",
      "Requirement already satisfied: packaging>=20.0 in e:\\anaconda3\\lib\\site-packages (from transformers) (23.1)\n",
      "Requirement already satisfied: pyyaml>=5.1 in e:\\anaconda3\\lib\\site-packages (from transformers) (6.0)\n",
      "Requirement already satisfied: regex!=2019.12.17 in e:\\anaconda3\\lib\\site-packages (from transformers) (2022.7.9)\n",
      "Requirement already satisfied: requests in e:\\anaconda3\\lib\\site-packages (from transformers) (2.31.0)\n",
      "Collecting tokenizers!=0.11.3,<0.14,>=0.11.1 (from transformers)\n",
      "  Downloading tokenizers-0.13.3-cp311-cp311-win_amd64.whl (3.5 MB)\n",
      "     ---------------------------------------- 0.0/3.5 MB ? eta -:--:--\n",
      "     ---------------------------------------- 0.0/3.5 MB 445.2 kB/s eta 0:00:08\n",
      "     -- ------------------------------------- 0.2/3.5 MB 2.0 MB/s eta 0:00:02\n",
      "     ----- ---------------------------------- 0.5/3.5 MB 3.4 MB/s eta 0:00:01\n",
      "     --------- ------------------------------ 0.8/3.5 MB 4.4 MB/s eta 0:00:01\n",
      "     -------------- ------------------------- 1.3/3.5 MB 5.5 MB/s eta 0:00:01\n",
      "     -------------------- ------------------- 1.8/3.5 MB 6.3 MB/s eta 0:00:01\n",
      "     -------------------------- ------------- 2.3/3.5 MB 6.9 MB/s eta 0:00:01\n",
      "     --------------------------------- ------ 2.9/3.5 MB 7.7 MB/s eta 0:00:01\n",
      "     ---------------------------------------  3.5/3.5 MB 8.2 MB/s eta 0:00:01\n",
      "     ---------------------------------------- 3.5/3.5 MB 7.9 MB/s eta 0:00:00\n",
      "Requirement already satisfied: safetensors>=0.3.1 in e:\\anaconda3\\lib\\site-packages (from transformers) (0.3.2)\n",
      "Requirement already satisfied: tqdm>=4.27 in e:\\anaconda3\\lib\\site-packages (from transformers) (4.65.0)\n",
      "Requirement already satisfied: fsspec in e:\\anaconda3\\lib\\site-packages (from huggingface-hub<1.0,>=0.15.1->transformers) (2023.4.0)\n",
      "Requirement already satisfied: typing-extensions>=3.7.4.3 in e:\\anaconda3\\lib\\site-packages (from huggingface-hub<1.0,>=0.15.1->transformers) (4.7.1)\n",
      "Requirement already satisfied: colorama in e:\\anaconda3\\lib\\site-packages (from tqdm>=4.27->transformers) (0.4.6)\n",
      "Requirement already satisfied: charset-normalizer<4,>=2 in e:\\anaconda3\\lib\\site-packages (from requests->transformers) (2.0.4)\n",
      "Requirement already satisfied: idna<4,>=2.5 in e:\\anaconda3\\lib\\site-packages (from requests->transformers) (3.4)\n",
      "Requirement already satisfied: urllib3<3,>=1.21.1 in e:\\anaconda3\\lib\\site-packages (from requests->transformers) (1.26.16)\n",
      "Requirement already satisfied: certifi>=2017.4.17 in e:\\anaconda3\\lib\\site-packages (from requests->transformers) (2023.7.22)\n",
      "Installing collected packages: tokenizers\n",
      "  Attempting uninstall: tokenizers\n",
      "    Found existing installation: tokenizers 0.14.1\n",
      "    Uninstalling tokenizers-0.14.1:\n",
      "      Successfully uninstalled tokenizers-0.14.1\n",
      "Successfully installed tokenizers-0.13.3\n",
      "Note: you may need to restart the kernel to use updated packages.\n"
     ]
    }
   ],
   "source": [
    "pip install transformers"
   ]
  },
  {
   "cell_type": "code",
   "execution_count": 3,
   "metadata": {},
   "outputs": [
    {
     "name": "stdout",
     "output_type": "stream",
     "text": [
      "WARNING:tensorflow:From e:\\anaconda3\\Lib\\site-packages\\keras\\src\\losses.py:2976: The name tf.losses.sparse_softmax_cross_entropy is deprecated. Please use tf.compat.v1.losses.sparse_softmax_cross_entropy instead.\n",
      "\n"
     ]
    }
   ],
   "source": [
    "# Use a pipeline as a high-level helper\n",
    "from transformers import pipeline\n",
    "\n",
    "pipe = pipeline(\"image-classification\", model=\"Pavarissy/ConvNextV2-large-DogBreed\")"
   ]
  },
  {
   "cell_type": "code",
   "execution_count": 4,
   "metadata": {},
   "outputs": [],
   "source": [
    "from transformers import AutoImageProcessor, AutoModelForImageClassification\n",
    "import torch\n",
    "from PIL import Image\n",
    "\n",
    "# Load the fine-tuned model\n",
    "model = AutoModelForImageClassification.from_pretrained(\"Pavarissy/ConvNextV2-large-DogBreed\")\n",
    "\n",
    "# Initialize the image processor\n",
    "preprocessor = AutoImageProcessor.from_pretrained(\"Pavarissy/ConvNextV2-large-DogBreed\")\n",
    "\n",
    "def classify_image(image):\n",
    "    # Preprocess the image\n",
    "    inputs = preprocessor(images=image, return_tensors=\"pt\")\n",
    "\n",
    "    # Model prediction\n",
    "    with torch.no_grad():\n",
    "        logits = model(**inputs).logits\n",
    "\n",
    "    # Convert logits to probabilities\n",
    "    probs = logits.softmax(dim=-1)\n",
    "\n",
    "    # Extract top 5 predictions\n",
    "    top_5_probs, top_5_labels = torch.topk(probs, 5)\n",
    "    top_5_probs = top_5_probs.squeeze().tolist()\n",
    "    top_5_labels = top_5_labels.squeeze().tolist()\n",
    "\n",
    "    # Map labels to their names\n",
    "    labels = model.config.id2label\n",
    "    predicted_labels = [labels[label] for label in top_5_labels]\n",
    "\n",
    "    return dict(zip(predicted_labels, top_5_probs))\n"
   ]
  },
  {
   "cell_type": "code",
   "execution_count": 6,
   "metadata": {},
   "outputs": [
    {
     "data": {
      "text/plain": [
       "{'Basset_hound': 0.9406246542930603,\n",
       " 'Ibizan_hound': 0.001509422087110579,\n",
       " 'Afghan_hound': 0.001245316700078547,\n",
       " 'Cocker_spaniel': 0.001170294126495719,\n",
       " 'Welsh_springer_spaniel': 0.001106369192712009}"
      ]
     },
     "execution_count": 6,
     "metadata": {},
     "output_type": "execute_result"
    }
   ],
   "source": [
    "image_path = \"E:/WS/CHAFEY/data/dog-breed-identification/trainn/basset/018aae5768833c34e3df30d63429251e.jpg\"\n",
    "classify_image(Image.open(image_path))"
   ]
  }
 ],
 "metadata": {
  "kernelspec": {
   "display_name": "Python 3",
   "language": "python",
   "name": "python3"
  },
  "language_info": {
   "codemirror_mode": {
    "name": "ipython",
    "version": 3
   },
   "file_extension": ".py",
   "mimetype": "text/x-python",
   "name": "python",
   "nbconvert_exporter": "python",
   "pygments_lexer": "ipython3",
   "version": "3.11.5"
  }
 },
 "nbformat": 4,
 "nbformat_minor": 2
}
